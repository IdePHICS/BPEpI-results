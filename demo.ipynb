{
 "cells": [
  {
   "cell_type": "code",
   "execution_count": 1,
   "metadata": {},
   "outputs": [],
   "source": [
    "import os\n",
    "import sys\n",
    "\n",
    "sys.path.insert(0, os.path.abspath(os.path.join(os.path.dirname(\"../bpepi/bpepi\"))))\n",
    "sys.path.insert(0, os.path.abspath(os.path.join(os.path.dirname(\"../bpepi\"))))\n",
    "sys.path.insert(0, os.path.abspath(os.path.join(os.path.dirname(\"../bpepi/Analysis\"))))\n",
    "\n",
    "import bpepi\n",
    "import matplotlib.pyplot as plt\n",
    "import seaborn as sns\n",
    "import pandas as pd\n"
   ]
  },
  {
   "cell_type": "code",
   "execution_count": 2,
   "metadata": {},
   "outputs": [],
   "source": [
    "import networkx as nx\n",
    "import numpy as np"
   ]
  },
  {
   "cell_type": "code",
   "execution_count": 3,
   "metadata": {},
   "outputs": [],
   "source": [
    "import sys\n",
    "sys.path.insert(0,'../Analysis')\n",
    "sys.path.insert(0,'../bpepi')"
   ]
  },
  {
   "cell_type": "code",
   "execution_count": 4,
   "metadata": {},
   "outputs": [],
   "source": [
    "from gen import simulate_one_detSIR\n",
    "from bpepi.Modules import fg"
   ]
  },
  {
   "attachments": {},
   "cell_type": "markdown",
   "metadata": {},
   "source": [
    "## Random Regular Graph - Sensors"
   ]
  },
  {
   "cell_type": "code",
   "execution_count": 389,
   "metadata": {},
   "outputs": [],
   "source": [
    "N=10000\n",
    "d=3\n",
    "lam=0.8\n",
    "delta=0.05\n",
    "G=nx.random_regular_graph(d,N)\n",
    "for (u,v) in G.edges():\n",
    "    G.edges[u,v]['lambda'] = lam\n",
    "if (N<500) : nx.draw(G)"
   ]
  },
  {
   "cell_type": "code",
   "execution_count": 390,
   "metadata": {},
   "outputs": [],
   "source": [
    "snn = np.array(simulate_one_detSIR(G, s_type = \"delta\", S = delta, mask = [\"SI\"], T_max=100))"
   ]
  },
  {
   "cell_type": "code",
   "execution_count": 391,
   "metadata": {},
   "outputs": [
    {
     "name": "stdout",
     "output_type": "stream",
     "text": [
      "9\n"
     ]
    }
   ],
   "source": [
    "T = len(snn) - 1\n",
    "print(T)"
   ]
  },
  {
   "cell_type": "code",
   "execution_count": 392,
   "metadata": {},
   "outputs": [],
   "source": [
    "from gen import generate_contacts\n",
    "contacts = generate_contacts(G,T,lam)"
   ]
  },
  {
   "cell_type": "markdown",
   "metadata": {},
   "source": [
    "#### Observations"
   ]
  },
  {
   "cell_type": "code",
   "execution_count": 393,
   "metadata": {},
   "outputs": [],
   "source": [
    "from gen import generate_sensors_obs\n",
    "rho= 0\n",
    "obs = generate_sensors_obs(snn, o_type=\"rho\", M=rho)"
   ]
  },
  {
   "cell_type": "code",
   "execution_count": 394,
   "metadata": {},
   "outputs": [],
   "source": [
    "fg_ = fg.FactorGraph(N,T,contacts,obs,delta=delta)"
   ]
  },
  {
   "cell_type": "code",
   "execution_count": 395,
   "metadata": {},
   "outputs": [
    {
     "data": {
      "text/plain": [
       "(9, [4.465543076534852e-06, 2.398844983065338e-07])"
      ]
     },
     "execution_count": 395,
     "metadata": {},
     "output_type": "execute_result"
    }
   ],
   "source": [
    "fg_.update(maxit=1000)"
   ]
  },
  {
   "cell_type": "code",
   "execution_count": 269,
   "metadata": {},
   "outputs": [],
   "source": [
    "marg = fg_.marginals()"
   ]
  },
  {
   "cell_type": "code",
   "execution_count": 396,
   "metadata": {},
   "outputs": [
    {
     "data": {
      "text/plain": [
       "(10000, 14)"
      ]
     },
     "execution_count": 396,
     "metadata": {},
     "output_type": "execute_result"
    }
   ],
   "source": [
    "np.shape(marg)"
   ]
  },
  {
   "cell_type": "code",
   "execution_count": 397,
   "metadata": {},
   "outputs": [
    {
     "data": {
      "text/plain": [
       "[<matplotlib.lines.Line2D at 0x7f8bb99ded00>]"
      ]
     },
     "execution_count": 397,
     "metadata": {},
     "output_type": "execute_result"
    },
    {
     "data": {
      "image/png": "[encoded data removed]",
      "text/plain": [
       "<Figure size 640x480 with 1 Axes>"
      ]
     },
     "metadata": {},
     "output_type": "display_data"
    }
   ],
   "source": [
    "# Plotting the probability of each node to be infected at the starting time (probability to be the source)\n",
    "plt.plot(marg[0,:])"
   ]
  },
  {
   "cell_type": "code",
   "execution_count": 398,
   "metadata": {},
   "outputs": [
    {
     "name": "stdout",
     "output_type": "stream",
     "text": [
      "Source not identified\n"
     ]
    }
   ],
   "source": [
    "if snn[:,int(np.argmax(marg[:,0]))][0]==1:\n",
    "    print(\"Source correctly identified\")\n",
    "else: print(\"Source not identified\")"
   ]
  },
  {
   "cell_type": "code",
   "execution_count": null,
   "metadata": {},
   "outputs": [],
   "source": []
  },
  {
   "cell_type": "code",
   "execution_count": 273,
   "metadata": {},
   "outputs": [],
   "source": [
    "from measures import ti_inferred, ti_random, SE, MSE, ti_star, OV, MOV, OV_rnd, MOV_rnd"
   ]
  },
  {
   "cell_type": "code",
   "execution_count": 274,
   "metadata": {},
   "outputs": [],
   "source": [
    "M0 = np.array([marg[:,0],1 - marg[:, 0],np.zeros_like(marg[:,0])])\n",
    "ov0 = OV(snn[0], np.argmax(M0[0],axis=0))\n",
    "ov0_rnd = OV_rnd(snn[0], M0)\n",
    "mov0 = MOV(M0)\n",
    "mov0_rnd = MOV_rnd(M0)"
   ]
  },
  {
   "cell_type": "code",
   "execution_count": 275,
   "metadata": {},
   "outputs": [
    {
     "data": {
      "text/plain": [
       "0.9889"
      ]
     },
     "execution_count": 275,
     "metadata": {},
     "output_type": "execute_result"
    }
   ],
   "source": [
    "ov0"
   ]
  },
  {
   "cell_type": "code",
   "execution_count": 276,
   "metadata": {},
   "outputs": [
    {
     "name": "stdout",
     "output_type": "stream",
     "text": [
      "0.9889\n",
      "0.99\n"
     ]
    }
   ],
   "source": [
    "print(ov0)\n",
    "print(mov0)"
   ]
  },
  {
   "cell_type": "code",
   "execution_count": 277,
   "metadata": {},
   "outputs": [],
   "source": [
    "ti_str = ti_star(snn)\n",
    "ti_inf = ti_inferred(marg)\n",
    "ti_rnd = ti_random(marg)\n",
    "se = SE(ti_str, ti_inf)\n",
    "mse = MSE(marg, ti_inf)"
   ]
  },
  {
   "cell_type": "code",
   "execution_count": 278,
   "metadata": {},
   "outputs": [
    {
     "data": {
      "text/plain": [
       "array([4.65850317, 4.65850317, 4.65850317, ..., 4.65850317, 4.65850317,\n",
       "       4.65850317])"
      ]
     },
     "execution_count": 278,
     "metadata": {},
     "output_type": "execute_result"
    }
   ],
   "source": [
    "ti_inf"
   ]
  },
  {
   "cell_type": "code",
   "execution_count": 279,
   "metadata": {},
   "outputs": [
    {
     "data": {
      "text/plain": [
       "array([4.65850317, 4.65850317, 4.65850317, ..., 4.65850317, 4.65850317,\n",
       "       4.65850317])"
      ]
     },
     "execution_count": 279,
     "metadata": {},
     "output_type": "execute_result"
    }
   ],
   "source": [
    "ti_rnd"
   ]
  },
  {
   "cell_type": "code",
   "execution_count": 280,
   "metadata": {},
   "outputs": [
    {
     "data": {
      "text/plain": [
       "3.859757814957967"
      ]
     },
     "execution_count": 280,
     "metadata": {},
     "output_type": "execute_result"
    }
   ],
   "source": [
    "se"
   ]
  },
  {
   "cell_type": "code",
   "execution_count": 281,
   "metadata": {},
   "outputs": [
    {
     "data": {
      "text/plain": [
       "3.8736658620354327"
      ]
     },
     "execution_count": 281,
     "metadata": {},
     "output_type": "execute_result"
    }
   ],
   "source": [
    "mse"
   ]
  },
  {
   "cell_type": "code",
   "execution_count": 282,
   "metadata": {},
   "outputs": [],
   "source": [
    "list_se = []\n",
    "for _ in range(200):\n",
    "    snn = np.array(simulate_one_detSIR(G, s_type = \"delta\", S = delta, mask = [\"SI\"], T_max=100))\n",
    "    ti_str = ti_star(snn)\n",
    "    list_se.append(SE(ti_str, ti_inf))"
   ]
  },
  {
   "cell_type": "code",
   "execution_count": 283,
   "metadata": {},
   "outputs": [
    {
     "name": "stdout",
     "output_type": "stream",
     "text": [
      "3.903894556139976 $\\pm$ 0.09510330142960288\n"
     ]
    }
   ],
   "source": [
    "list_se_01 = list_se\n",
    "mse_01 = mse\n",
    "print(np.mean(list_se), r\"$\\pm$\",np.std(list_se))"
   ]
  },
  {
   "cell_type": "code",
   "execution_count": 286,
   "metadata": {},
   "outputs": [
    {
     "data": {
      "text/plain": [
       "<matplotlib.collections.LineCollection at 0x7fd5420c71f0>"
      ]
     },
     "execution_count": 286,
     "metadata": {},
     "output_type": "execute_result"
    },
    {
     "data": {
      "image/png": "[encoded data removed]",
      "text/plain": [
       "<Figure size 640x480 with 1 Axes>"
      ]
     },
     "metadata": {},
     "output_type": "display_data"
    }
   ],
   "source": [
    "a = plt.hist(list_se_0025, bins=18)\n",
    "plt.vlines(mse_0025,0,a[0].max(),'red')\n",
    "plt.vlines(np.mean(list_se_0025),0,a[0].max(),'green')"
   ]
  },
  {
   "cell_type": "code",
   "execution_count": 288,
   "metadata": {},
   "outputs": [
    {
     "data": {
      "text/plain": [
       "<matplotlib.collections.LineCollection at 0x7fd563c44670>"
      ]
     },
     "execution_count": 288,
     "metadata": {},
     "output_type": "execute_result"
    },
    {
     "data": {
      "image/png": "[encoded data removed]",
      "text/plain": [
       "<Figure size 640x480 with 1 Axes>"
      ]
     },
     "metadata": {},
     "output_type": "display_data"
    }
   ],
   "source": [
    "a = plt.hist(list_se_005, bins=18)\n",
    "plt.vlines(mse_005,0,a[0].max(),'red')\n",
    "plt.vlines(np.mean(list_se_005),0,a[0].max(),'green')"
   ]
  },
  {
   "cell_type": "code",
   "execution_count": 290,
   "metadata": {},
   "outputs": [
    {
     "data": {
      "text/plain": [
       "<matplotlib.collections.LineCollection at 0x7fd5421014c0>"
      ]
     },
     "execution_count": 290,
     "metadata": {},
     "output_type": "execute_result"
    },
    {
     "data": {
      "image/png": "[encoded data removed]",
      "text/plain": [
       "<Figure size 640x480 with 1 Axes>"
      ]
     },
     "metadata": {},
     "output_type": "display_data"
    }
   ],
   "source": [
    "a = plt.hist(list_se_01, bins=23)\n",
    "plt.vlines(mse_01,0,a[0].max(),'red')\n",
    "plt.vlines(np.mean(list_se_01),0,a[0].max(),'green')"
   ]
  },
  {
   "attachments": {},
   "cell_type": "markdown",
   "metadata": {},
   "source": [
    "## Random Regular Graph - Snapshot"
   ]
  },
  {
   "cell_type": "code",
   "execution_count": 144,
   "metadata": {},
   "outputs": [],
   "source": [
    "snap_time=12\n",
    "mask = [\"SI\"]\n",
    "mask = [1]"
   ]
  },
  {
   "cell_type": "code",
   "execution_count": 145,
   "metadata": {},
   "outputs": [],
   "source": [
    "N=10000\n",
    "d=3\n",
    "lam=0.6\n",
    "delta=0.2\n",
    "G=nx.random_regular_graph(d,N)\n",
    "for (u,v) in G.edges():\n",
    "    G.edges[u,v]['lambda'] = lam\n",
    "if (N<500) : nx.draw(G)"
   ]
  },
  {
   "cell_type": "code",
   "execution_count": 146,
   "metadata": {},
   "outputs": [],
   "source": [
    "snn = np.array(simulate_one_detSIR(G, s_type = \"delta\", S = delta, mask = mask, T_max=100))[:snap_time+1]"
   ]
  },
  {
   "cell_type": "code",
   "execution_count": 147,
   "metadata": {},
   "outputs": [
    {
     "name": "stdout",
     "output_type": "stream",
     "text": [
      "12\n"
     ]
    }
   ],
   "source": [
    "T = len(snn) - 1\n",
    "print(T)"
   ]
  },
  {
   "cell_type": "code",
   "execution_count": 148,
   "metadata": {},
   "outputs": [],
   "source": [
    "from gen import generate_contacts\n",
    "contacts = generate_contacts(G,snap_time,lam)"
   ]
  },
  {
   "cell_type": "markdown",
   "metadata": {},
   "source": [
    "#### Observations"
   ]
  },
  {
   "cell_type": "code",
   "execution_count": 151,
   "metadata": {},
   "outputs": [],
   "source": [
    "from gen import generate_snapshot_obs\n",
    "rho= 1\n",
    "obs = generate_snapshot_obs(snn, o_type=\"rho\", M=1, snap_time=snap_time)[0]"
   ]
  },
  {
   "cell_type": "code",
   "execution_count": 152,
   "metadata": {},
   "outputs": [
    {
     "data": {
      "text/plain": [
       "(14, [9.367506770274758e-17, 2.7588589120313064e-17])"
      ]
     },
     "execution_count": 152,
     "metadata": {},
     "output_type": "execute_result"
    }
   ],
   "source": [
    "fg_ = fg.FactorGraph(N,snap_time,contacts,[],delta=delta,mask=mask)\n",
    "fg_.update(maxit=1000)"
   ]
  },
  {
   "cell_type": "code",
   "execution_count": null,
   "metadata": {},
   "outputs": [
    {
     "data": {
      "text/plain": [
       "(13, [6.0874805720471936e-05, 6.137309541833117e-07])"
      ]
     },
     "execution_count": 97,
     "metadata": {},
     "output_type": "execute_result"
    }
   ],
   "source": [
    "fg_.reset_obs(obs)  \n",
    "fg_.update(maxit=1000)"
   ]
  },
  {
   "cell_type": "code",
   "execution_count": 153,
   "metadata": {},
   "outputs": [],
   "source": [
    "marg = fg_.marginals()"
   ]
  },
  {
   "cell_type": "code",
   "execution_count": 154,
   "metadata": {},
   "outputs": [
    {
     "data": {
      "text/plain": [
       "(10000, 14)"
      ]
     },
     "execution_count": 154,
     "metadata": {},
     "output_type": "execute_result"
    }
   ],
   "source": [
    "np.shape(marg)"
   ]
  },
  {
   "cell_type": "code",
   "execution_count": 155,
   "metadata": {},
   "outputs": [
    {
     "name": "stdout",
     "output_type": "stream",
     "text": [
      "-1.0\n"
     ]
    },
    {
     "data": {
      "image/png": "[encoded data removed]",
      "text/plain": [
       "<Figure size 640x480 with 1 Axes>"
      ]
     },
     "metadata": {},
     "output_type": "display_data"
    }
   ],
   "source": [
    "# Plotting the probability of each node to be infected at the starting time (probability to be the source)\n",
    "i=9\n",
    "plt.plot(marg[i,:])\n",
    "print(ti_str[i])"
   ]
  },
  {
   "cell_type": "code",
   "execution_count": 156,
   "metadata": {},
   "outputs": [
    {
     "data": {
      "text/plain": [
       "0"
      ]
     },
     "execution_count": 156,
     "metadata": {},
     "output_type": "execute_result"
    }
   ],
   "source": [
    "sum(ti_str>12)"
   ]
  },
  {
   "cell_type": "code",
   "execution_count": 157,
   "metadata": {},
   "outputs": [
    {
     "data": {
      "text/plain": [
       "[(2852, 2, 12),\n",
       " (7800, 2, 12),\n",
       " (7946, 2, 12),\n",
       " (3789, 0, 12),\n",
       " (5515, 2, 12),\n",
       " (7511, 2, 12),\n",
       " (7175, 2, 12),\n",
       " (8532, 0, 12),\n",
       " (4263, 0, 12),\n",
       " (420, 2, 12)]"
      ]
     },
     "execution_count": 157,
     "metadata": {},
     "output_type": "execute_result"
    }
   ],
   "source": [
    "obs[10:20]"
   ]
  },
  {
   "cell_type": "code",
   "execution_count": 158,
   "metadata": {},
   "outputs": [],
   "source": [
    "for o in obs:\n",
    "    if o[1]==2:\n",
    "        if 1 not in snn[:,o[0]]:\n",
    "            print(o)"
   ]
  },
  {
   "cell_type": "code",
   "execution_count": 159,
   "metadata": {},
   "outputs": [
    {
     "name": "stdout",
     "output_type": "stream",
     "text": [
      "(9, 2, 12)\n"
     ]
    }
   ],
   "source": [
    "for o in obs:\n",
    "    if o[0]==i:\n",
    "        print(o)"
   ]
  },
  {
   "cell_type": "code",
   "execution_count": 160,
   "metadata": {},
   "outputs": [],
   "source": [
    "from measures import ti_inferred, ti_random, SE, MSE, ti_star, OV, MOV, OV_rnd, MOV_rnd"
   ]
  },
  {
   "cell_type": "code",
   "execution_count": 161,
   "metadata": {},
   "outputs": [],
   "source": [
    "M0 = np.array([1 - marg[:, 0],marg[:,0],np.zeros_like(marg[:,0])])\n",
    "ov0 = OV(snn[0], np.argmax(M0,axis=0))\n",
    "ov0_rnd = OV_rnd(snn[0], M0)\n",
    "mov0 = MOV(M0)\n",
    "mov0_rnd = MOV_rnd(M0)"
   ]
  },
  {
   "cell_type": "code",
   "execution_count": 162,
   "metadata": {},
   "outputs": [
    {
     "data": {
      "text/plain": [
       "0"
      ]
     },
     "execution_count": 162,
     "metadata": {},
     "output_type": "execute_result"
    }
   ],
   "source": [
    "np.argmax(M0,axis=0).sum()"
   ]
  },
  {
   "cell_type": "code",
   "execution_count": 163,
   "metadata": {},
   "outputs": [
    {
     "name": "stdout",
     "output_type": "stream",
     "text": [
      "0.789\n",
      "0.7999999999999995\n"
     ]
    }
   ],
   "source": [
    "print(ov0)\n",
    "print(mov0)"
   ]
  },
  {
   "cell_type": "code",
   "execution_count": 164,
   "metadata": {},
   "outputs": [],
   "source": [
    "ti_str = ti_star(snn,snap_time)\n",
    "ti_inf = ti_inferred(marg)\n",
    "ti_rnd = ti_random(marg)\n",
    "se = SE(ti_str, ti_inf)\n",
    "mse = MSE(marg, ti_inf)"
   ]
  },
  {
   "cell_type": "code",
   "execution_count": 165,
   "metadata": {},
   "outputs": [
    {
     "data": {
      "text/plain": [
       "15.251224165112069"
      ]
     },
     "execution_count": 165,
     "metadata": {},
     "output_type": "execute_result"
    }
   ],
   "source": [
    "SE(ti_str, ti_rnd)"
   ]
  },
  {
   "cell_type": "code",
   "execution_count": 166,
   "metadata": {},
   "outputs": [
    {
     "name": "stdout",
     "output_type": "stream",
     "text": [
      "15.251224165112031\n",
      "16.40656349833109\n"
     ]
    }
   ],
   "source": [
    "print(se)\n",
    "print(mse)"
   ]
  },
  {
   "cell_type": "code",
   "execution_count": 59,
   "metadata": {},
   "outputs": [
    {
     "data": {
      "text/plain": [
       "array([-0.24322961, -0.23233924, -0.21271847, ..., -0.3483333 ,\n",
       "       13.        , 13.        ])"
      ]
     },
     "execution_count": 59,
     "metadata": {},
     "output_type": "execute_result"
    }
   ],
   "source": [
    "ti_inf"
   ]
  },
  {
   "cell_type": "code",
   "execution_count": 60,
   "metadata": {},
   "outputs": [
    {
     "data": {
      "text/plain": [
       "array([2.8850843, 2.8850843, 2.8850843, 2.8850843, 2.8850843, 2.8850843,\n",
       "       2.8850843, 2.8850843, 2.8850843, 2.8850843])"
      ]
     },
     "execution_count": 60,
     "metadata": {},
     "output_type": "execute_result"
    }
   ],
   "source": [
    "ti_rnd[:10]"
   ]
  },
  {
   "cell_type": "code",
   "execution_count": 61,
   "metadata": {},
   "outputs": [],
   "source": [
    "for o in obs:\n",
    "    if o[1] == 1:\n",
    "        print(o)"
   ]
  },
  {
   "cell_type": "code",
   "execution_count": 62,
   "metadata": {},
   "outputs": [
    {
     "data": {
      "text/plain": [
       "1"
      ]
     },
     "execution_count": 62,
     "metadata": {},
     "output_type": "execute_result"
    }
   ],
   "source": [
    "snn[0][2]"
   ]
  },
  {
   "cell_type": "code",
   "execution_count": 63,
   "metadata": {},
   "outputs": [],
   "source": [
    "for i,t in enumerate(ti_str):\n",
    "    if t == 9 : print(i,t)"
   ]
  },
  {
   "cell_type": "code",
   "execution_count": 64,
   "metadata": {},
   "outputs": [
    {
     "data": {
      "text/plain": [
       "-1.0"
      ]
     },
     "execution_count": 64,
     "metadata": {},
     "output_type": "execute_result"
    }
   ],
   "source": [
    "ti_str[21]"
   ]
  },
  {
   "cell_type": "code",
   "execution_count": 65,
   "metadata": {},
   "outputs": [
    {
     "data": {
      "text/plain": [
       "-0.29312349339275534"
      ]
     },
     "execution_count": 65,
     "metadata": {},
     "output_type": "execute_result"
    }
   ],
   "source": [
    "ti_inf[21]"
   ]
  },
  {
   "cell_type": "code",
   "execution_count": 66,
   "metadata": {},
   "outputs": [
    {
     "data": {
      "text/plain": [
       "2.885084298353312"
      ]
     },
     "execution_count": 66,
     "metadata": {},
     "output_type": "execute_result"
    }
   ],
   "source": [
    "ti_rnd[21]"
   ]
  },
  {
   "cell_type": "code",
   "execution_count": 332,
   "metadata": {},
   "outputs": [
    {
     "data": {
      "text/plain": [
       "1.2039704652208811"
      ]
     },
     "execution_count": 332,
     "metadata": {},
     "output_type": "execute_result"
    }
   ],
   "source": [
    "se"
   ]
  },
  {
   "cell_type": "code",
   "execution_count": 333,
   "metadata": {},
   "outputs": [
    {
     "data": {
      "text/plain": [
       "1.2482035021303424"
      ]
     },
     "execution_count": 333,
     "metadata": {},
     "output_type": "execute_result"
    }
   ],
   "source": [
    "mse"
   ]
  },
  {
   "cell_type": "code",
   "execution_count": 335,
   "metadata": {},
   "outputs": [
    {
     "data": {
      "text/plain": [
       "45.06538450923072"
      ]
     },
     "execution_count": 335,
     "metadata": {},
     "output_type": "execute_result"
    }
   ],
   "source": [
    "snn = np.array(simulate_one_detSIR(G, s_type = \"delta\", S = delta, mask =  mask, T_max=100))[:snap_time+1]\n",
    "ti_str = ti_star(snn)\n",
    "ti_inf = ti_inferred(marg)\n",
    "se = SE(ti_str, ti_inf)\n",
    "se"
   ]
  },
  {
   "cell_type": "code",
   "execution_count": null,
   "metadata": {},
   "outputs": [],
   "source": []
  },
  {
   "cell_type": "code",
   "execution_count": 223,
   "metadata": {},
   "outputs": [
    {
     "data": {
      "text/plain": [
       "5"
      ]
     },
     "execution_count": 223,
     "metadata": {},
     "output_type": "execute_result"
    }
   ],
   "source": [
    "sum(ti_str==10)"
   ]
  },
  {
   "cell_type": "code",
   "execution_count": 216,
   "metadata": {},
   "outputs": [
    {
     "data": {
      "text/plain": [
       "array([0.2       , 0.1770496 , 0.17724403, 0.15892482, 0.12438706,\n",
       "       0.08291425, 0.04618922, 0.02133089, 0.00821761, 0.00269705,\n",
       "       0.00077747, 0.00026799])"
      ]
     },
     "execution_count": 216,
     "metadata": {},
     "output_type": "execute_result"
    }
   ],
   "source": [
    "marg[0,:]"
   ]
  },
  {
   "cell_type": "code",
   "execution_count": 240,
   "metadata": {},
   "outputs": [
    {
     "data": {
      "text/plain": [
       "array([ 2., 10.,  0., 10., 10., -1.,  0., 10., 10.,  0., 10., -1.,  0.,\n",
       "       10.,  0.,  4., 10.,  3.,  0.,  1., 10., -1.,  2., 10., 10.,  1.,\n",
       "        0., -1., 10.,  0.,  3., -1., 10., -1., -1., 10., 10., -1., 10.,\n",
       "        1., 10.,  0., -1., 10.,  0.,  2., -1.,  2., 10., -1., 10.,  3.,\n",
       "        0., -1.,  1., -1., 10.,  0., -1., 10.,  0., -1., 10.,  0., 10.,\n",
       "        4., 10., 10., -1., 10., 10., 10., 10., 10.,  0., 10.,  0.,  1.,\n",
       "        1., 10.,  0., -1., 10., 10., 10.,  3.,  0.,  0.,  0., 10., -1.,\n",
       "       -1., 10., -1., -1., 10., 10., 10., 10., 10., 10., 10.,  3., 10.,\n",
       "       10.,  0., 10., -1., -1., -1., 10.,  0., -1.,  1., -1., 10.,  0.,\n",
       "       -1., 10., 10., -1., 10., -1., 10.,  0.,  1., 10., -1., 10.,  0.,\n",
       "       -1., 10., -1.,  0., 10., -1.,  2., 10., 10., -1.,  1., 10., 10.,\n",
       "       10., -1., 10., -1.,  0., -1.,  0., -1.,  1., 10., 10.,  0., 10.,\n",
       "       10., 10., 10., 10.,  1., 10., -1., 10., 10.,  0., 10., 10.,  1.,\n",
       "        0., -1.,  2., 10.,  3., -1., 10., -1.,  0.,  1., 10.,  3., 10.,\n",
       "       10., 10.,  1.,  0., 10., 10., 10., -1.,  0., 10., 10., 10.,  0.,\n",
       "        2., 10.,  5.,  5.,  2.])"
      ]
     },
     "execution_count": 240,
     "metadata": {},
     "output_type": "execute_result"
    }
   ],
   "source": [
    "ti_str[:200]"
   ]
  },
  {
   "cell_type": "code",
   "execution_count": 241,
   "metadata": {},
   "outputs": [
    {
     "data": {
      "text/plain": [
       "array([1.44762016, 1.44762016, 1.44762016, 1.44762016, 1.44762016,\n",
       "       1.44762016, 1.44762016, 1.44762016, 1.44762016, 1.44762016,\n",
       "       1.44762016, 1.44762016, 1.44762016, 1.44762016, 1.44762016,\n",
       "       1.44762016, 1.44762016, 1.44762016, 1.44762016, 1.44762016,\n",
       "       1.44762016, 1.44762016, 1.44762016, 1.44762016, 1.44762016,\n",
       "       1.44762016, 1.44762016, 1.44762016, 1.44762016, 1.44762016,\n",
       "       1.44762016, 1.44762016, 1.44762016, 1.44762016, 1.44762016,\n",
       "       1.44762016, 1.44762016, 1.44762016, 1.44762016, 1.44762016,\n",
       "       1.44762016, 1.44762016, 1.44762016, 1.44762016, 1.44762016,\n",
       "       1.44762016, 1.44762016, 1.44762016, 1.44762016, 1.44762016,\n",
       "       1.44762016, 1.44762016, 1.44762016, 1.44762016, 1.44762016,\n",
       "       1.44762016, 1.44762016, 1.44762016, 1.44762016, 1.44762016,\n",
       "       1.44762016, 1.44762016, 1.44762016, 1.44762016, 1.44762016,\n",
       "       1.44762016, 1.44762016, 1.44762016, 1.44762016, 1.44762016,\n",
       "       1.44762016, 1.44762016, 1.44762016, 1.44762016, 1.44762016,\n",
       "       1.44762016, 1.44762016, 1.44762016, 1.44762016, 1.44762016,\n",
       "       1.44762016, 1.44762016, 1.44762016, 1.44762016, 1.44762016,\n",
       "       1.44762016, 1.44762016, 1.44762016, 1.44762016, 1.44762016,\n",
       "       1.44762016, 1.44762016, 1.44762016, 1.44762016, 1.44762016,\n",
       "       1.44762016, 1.44762016, 1.44762016, 1.44762016, 1.44762016,\n",
       "       1.44762016, 1.44762016, 1.44762016, 1.44762016, 1.44762016,\n",
       "       1.44762016, 1.44762016, 1.44762016, 1.44762016, 1.44762016,\n",
       "       1.44762016, 1.44762016, 1.44762016, 1.44762016, 1.44762016,\n",
       "       1.44762016, 1.44762016, 1.44762016, 1.44762016, 1.44762016,\n",
       "       1.44762016, 1.44762016, 1.44762016, 1.44762016, 1.44762016,\n",
       "       1.44762016, 1.44762016, 1.44762016, 1.44762016, 1.44762016,\n",
       "       1.44762016, 1.44762016, 1.44762016, 1.44762016, 1.44762016,\n",
       "       1.44762016, 1.44762016, 1.44762016, 1.44762016, 1.44762016,\n",
       "       1.44762016, 1.44762016, 1.44762016, 1.44762016, 1.44762016,\n",
       "       1.44762016, 1.44762016, 1.44762016, 1.44762016, 1.44762016,\n",
       "       1.44762016, 1.44762016, 1.44762016, 1.44762016, 1.44762016,\n",
       "       1.44762016, 1.44762016, 1.44762016, 1.44762016, 1.44762016,\n",
       "       1.44762016, 1.44762016, 1.44762016, 1.44762016, 1.44762016,\n",
       "       1.44762016, 1.44762016, 1.44762016, 1.44762016, 1.44762016,\n",
       "       1.44762016, 1.44762016, 1.44762016, 1.44762016, 1.44762016,\n",
       "       1.44762016, 1.44762016, 1.44762016, 1.44762016, 1.44762016,\n",
       "       1.44762016, 1.44762016, 1.44762016, 1.44762016, 1.44762016,\n",
       "       1.44762016, 1.44762016, 1.44762016, 1.44762016, 1.44762016,\n",
       "       1.44762016, 1.44762016, 1.44762016, 1.44762016, 1.44762016,\n",
       "       1.44762016, 1.44762016, 1.44762016, 1.44762016, 1.44762016])"
      ]
     },
     "execution_count": 241,
     "metadata": {},
     "output_type": "execute_result"
    }
   ],
   "source": [
    "ti_inf[:200]"
   ]
  },
  {
   "cell_type": "code",
   "execution_count": null,
   "metadata": {},
   "outputs": [],
   "source": []
  }
 ],
 "metadata": {
  "kernelspec": {
   "display_name": "Epi38",
   "language": "python",
   "name": "python3"
  },
  "language_info": {
   "codemirror_mode": {
    "name": "ipython",
    "version": 3
   },
   "file_extension": ".py",
   "mimetype": "text/x-python",
   "name": "python",
   "nbconvert_exporter": "python",
   "pygments_lexer": "ipython3",
   "version": "3.8.16"
  },
  "vscode": {
   "interpreter": {
    "hash": "582665e005205e644d403bc592ba93d87a6a83a74c3df9237a83d39250e0e3aa"
   }
  }
 },
 "nbformat": 4,
 "nbformat_minor": 2
}
